{
 "cells": [
  {
   "cell_type": "code",
   "execution_count": 1,
   "metadata": {},
   "outputs": [],
   "source": [
    "from __future__ import annotations\n",
    "\n",
    "from collections.abc import Iterator\n",
    "from dataclasses import dataclass\n",
    "from fractions import Fraction\n",
    "from functools import total_ordering\n",
    "from typing import Generic, TypeAlias, TypeVar\n",
    "\n",
    "import matplotlib.pyplot as plt\n",
    "import numpy as np\n",
    "import pylab as pl\n",
    "from matplotlib import collections as mc\n",
    "from scipy.spatial import ConvexHull, convex_hull_plot_2d\n",
    "from sortedcontainers import SortedList\n",
    "\n",
    "from utillities.test_utilities import run_tests_params"
   ]
  },
  {
   "attachments": {},
   "cell_type": "markdown",
   "metadata": {},
   "source": [
    "https://en.wikipedia.org/wiki/AA_tree\n",
    "\n",
    "https://www.cs.umb.edu/~kwn/cs210/Lab13/\n"
   ]
  },
  {
   "cell_type": "code",
   "execution_count": 20,
   "metadata": {},
   "outputs": [],
   "source": [
    "class Node:\n",
    "    # copied from:\n",
    "    # http://users.cis.fiu.edu/~weiss/dsaajava/code/DataStructures/AANode.java\n",
    "    def __init__(self, element=None, left=None, right=None):\n",
    "        self.element = element\n",
    "        self.left = left\n",
    "        self.right = right\n",
    "        self.level = 1\n",
    "\n",
    "\n"
   ]
  },
  {
   "cell_type": "code",
   "execution_count": 32,
   "metadata": {},
   "outputs": [],
   "source": [
    "class Tree:\n",
    "    # copied from:\n",
    "    # http://users.cis.fiu.edu/~weiss/dsaajava/code/DataStructures/AATree.java\n",
    "    nullNode = Node()\n",
    "    nullNode.left = nullNode\n",
    "    nullNode.right = nullNode\n",
    "    nullNode.level = 0\n",
    "\n",
    "    deletedNode = nullNode\n",
    "    lastNode = nullNode\n",
    "\n",
    "    def __init__(self) -> None:\n",
    "        self.root = Tree.nullNode\n",
    "\n",
    "    def insert(self, x):\n",
    "        self.root = self._insert(x, self.root)\n",
    "\n",
    "    def remove(self, x):\n",
    "        Tree.deletedNode = Tree.nullNode\n",
    "        self.root = self._remove(x, self.root)\n",
    "\n",
    "    def min(self):\n",
    "        ...\n",
    "\n",
    "    def max(self):\n",
    "        ...\n",
    "\n",
    "    def find(x):\n",
    "        ...\n",
    "\n",
    "    def clear(self):\n",
    "        self.root = Tree.nullNode\n",
    "\n",
    "    def is_empty(self):\n",
    "        return self.root is Tree.nullNode\n",
    "\n",
    "    def _insert(self, x, t):\n",
    "        if t is Tree.nullNode:\n",
    "            t = Node(x, Tree.nullNode, Tree.nullNode)\n",
    "        elif x < t.element:\n",
    "            t.left = self._insert(x, t.left)\n",
    "        elif x > t.element:\n",
    "            t.right = self._insert(x, t.right)\n",
    "        else:\n",
    "            return t\n",
    "\n",
    "        t = self.skew(t)\n",
    "        t = self.split(t)\n",
    "        return t\n",
    "\n",
    "    def _remove(self, x, t):\n",
    "        if t is not Tree.nullNode:\n",
    "            #  Step 1: Search down the tree and set lastNode and deletedNode\n",
    "            Tree.lastNode = t\n",
    "            if x < t.element:\n",
    "                t.left = self._remove(x, t.left)\n",
    "            else:\n",
    "                Tree.deletedNode = t\n",
    "                t.right = self._remove(x, t.right)\n",
    "\n",
    "            # Step 2: If at the bottom of the tree and\n",
    "            # x is present, we remove it\n",
    "            if t is Tree.lastNode:\n",
    "                if Tree.deletedNode is Tree.nullNode or x != Tree.deletedNode.element:\n",
    "                    return t  # Item not found do nothing\n",
    "                Tree.deletedNode.element = t.element\n",
    "                t = t.right\n",
    "\n",
    "            #  Step 3: Otherwise, we are not at the bottom rebalance\n",
    "            elif t.left.level < t.level - 1 or t.right.level < t.level - 1:\n",
    "                if t.right.level > --t.level:\n",
    "                    t.right.level = t.level\n",
    "                t = self.skew(t)\n",
    "                t.right = self.skew(t.right)\n",
    "                t.right.right = self.skew(t.right.right)\n",
    "                t = self.split(t)\n",
    "                t.right = self.split(t.right)\n",
    "\n",
    "        return t\n"
   ]
  },
  {
   "cell_type": "code",
   "execution_count": 34,
   "metadata": {},
   "outputs": [],
   "source": [
    "tree = Tree()\n",
    "assert tree.is_empty()"
   ]
  },
  {
   "cell_type": "code",
   "execution_count": 5,
   "metadata": {},
   "outputs": [],
   "source": [
    "# tree = AATree()\n",
    "# actual = type(tree)\n",
    "# expected = AATree\n",
    "\n",
    "# assert actual is expected\n"
   ]
  },
  {
   "cell_type": "code",
   "execution_count": 6,
   "metadata": {},
   "outputs": [
    {
     "data": {
      "text/plain": [
       "False"
      ]
     },
     "execution_count": 6,
     "metadata": {},
     "output_type": "execute_result"
    }
   ],
   "source": [
    "A = None\n",
    "B = 11\n",
    "\n",
    "A is None and B is None == A == B is None"
   ]
  },
  {
   "cell_type": "code",
   "execution_count": 19,
   "metadata": {},
   "outputs": [
    {
     "data": {
      "text/plain": [
       "<__main__.Node at 0x1f19afa2ad0>"
      ]
     },
     "execution_count": 19,
     "metadata": {},
     "output_type": "execute_result"
    }
   ],
   "source": [
    "Node().left\n"
   ]
  },
  {
   "cell_type": "code",
   "execution_count": null,
   "metadata": {},
   "outputs": [],
   "source": []
  }
 ],
 "metadata": {
  "kernelspec": {
   "display_name": "Geometric_algorithm-FguaBkm6",
   "language": "python",
   "name": "python3"
  },
  "language_info": {
   "codemirror_mode": {
    "name": "ipython",
    "version": 3
   },
   "file_extension": ".py",
   "mimetype": "text/x-python",
   "name": "python",
   "nbconvert_exporter": "python",
   "pygments_lexer": "ipython3",
   "version": "3.11.1"
  },
  "orig_nbformat": 4
 },
 "nbformat": 4,
 "nbformat_minor": 2
}
