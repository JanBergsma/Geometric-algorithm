{
 "cells": [
  {
   "cell_type": "code",
   "execution_count": 1,
   "metadata": {},
   "outputs": [],
   "source": [
    "from __future__ import annotations\n",
    "\n",
    "from collections.abc import Iterator\n",
    "from dataclasses import dataclass\n",
    "from fractions import Fraction\n",
    "from functools import total_ordering\n",
    "from typing import Generic, TypeVar\n",
    "\n",
    "import matplotlib.pyplot as plt\n",
    "import numpy as np\n",
    "import pylab as pl\n",
    "from matplotlib import collections as mc\n",
    "from scipy.spatial import ConvexHull, convex_hull_plot_2d\n",
    "from sortedcontainers import SortedList\n",
    "\n",
    "from utillities.test_utilities import run_tests_params\n"
   ]
  },
  {
   "attachments": {},
   "cell_type": "markdown",
   "metadata": {},
   "source": [
    "https://en.wikipedia.org/wiki/AA_tree\n",
    "\n",
    "https://www.cs.umb.edu/~kwn/cs210/Lab13/\n"
   ]
  },
  {
   "cell_type": "code",
   "execution_count": 2,
   "metadata": {},
   "outputs": [],
   "source": [
    "T = TypeVar('T')\n",
    "\n",
    "\n",
    "@dataclass(slots=True)\n",
    "class Node(Generic[T]):\n",
    "    left: Node[T] | None = None\n",
    "    right: Node[T] | None = None\n",
    "    key: T | None = None\n",
    "    level: int = 1\n",
    "\n",
    "bottom, deleted, last = None, None, None\n"
   ]
  },
  {
   "cell_type": "code",
   "execution_count": 4,
   "metadata": {},
   "outputs": [],
   "source": []
  },
  {
   "cell_type": "code",
   "execution_count": null,
   "metadata": {},
   "outputs": [],
   "source": [
    "tree = AATree()\n",
    "actual = type(tree)\n",
    "expected = AATree\n",
    "\n",
    "assert actual is expected\n"
   ]
  },
  {
   "cell_type": "code",
   "execution_count": 7,
   "metadata": {},
   "outputs": [
    {
     "data": {
      "text/plain": [
       "False"
      ]
     },
     "execution_count": 7,
     "metadata": {},
     "output_type": "execute_result"
    }
   ],
   "source": [
    "A = None\n",
    "B = 11\n",
    "\n",
    "A is None and B is None == A == B is None"
   ]
  },
  {
   "cell_type": "code",
   "execution_count": null,
   "metadata": {},
   "outputs": [],
   "source": []
  }
 ],
 "metadata": {
  "kernelspec": {
   "display_name": "Geometric_algorithm-FguaBkm6",
   "language": "python",
   "name": "python3"
  },
  "language_info": {
   "codemirror_mode": {
    "name": "ipython",
    "version": 3
   },
   "file_extension": ".py",
   "mimetype": "text/x-python",
   "name": "python",
   "nbconvert_exporter": "python",
   "pygments_lexer": "ipython3",
   "version": "3.11.1"
  },
  "orig_nbformat": 4
 },
 "nbformat": 4,
 "nbformat_minor": 2
}
